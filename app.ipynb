{
 "cells": [
  {
   "cell_type": "code",
   "execution_count": null,
   "id": "92cdcd51",
   "metadata": {
    "scrolled": true
   },
   "outputs": [],
   "source": [
    "import os\n",
    "\n",
    "# Display current working directory\n",
    "print(\"Current Working Directory:\", os.getcwd())\n",
    "\n",
    "# Change working directory if needed\n"
   ]
  },
  {
   "cell_type": "code",
   "execution_count": null,
   "id": "8081d488",
   "metadata": {},
   "outputs": [],
   "source": []
  },
  {
   "cell_type": "code",
   "execution_count": null,
   "id": "478e3ecf",
   "metadata": {
    "scrolled": true
   },
   "outputs": [],
   "source": [
    "from flask import Flask, request, jsonify\n",
    "import joblib\n",
    "\n",
    "app = Flask(__name__)\n",
    "\n",
    "# Load the trained model\n",
    "model = joblib.load('/Users/prateek/Desktop/mantanence/your_model.pkl')  # Replace 'your_model.pkl' with the actual model file\n",
    "\n",
    "@app.route('/predict', methods=['POST'])\n",
    "# Add a route for serving a favicon\n",
    "@app.route('/favicon.ico')\n",
    "def favicon():\n",
    "    return app.send_static_file('/Users/prateek/Desktop/mantanence/favicon.ico')\n",
    "\n",
    "def predict():\n",
    "    data = request.get_json(force=True)\n",
    "    features = [data['Air temperature [K]'], data['Air temperature [K]'], data['Rotational speed [rpm]'], data['Torque [Nm]'], data['Tool wear [min]']]\n",
    "    prediction = model.predict([features])[0]\n",
    "    return jsonify(prediction)\n",
    "\n",
    "if __name__ == '__main__':\n",
    "    app.run(port=5000)\n"
   ]
  },
  {
   "cell_type": "code",
   "execution_count": null,
   "id": "cfffa56f",
   "metadata": {},
   "outputs": [],
   "source": []
  },
  {
   "cell_type": "code",
   "execution_count": null,
   "id": "3bf618b2",
   "metadata": {},
   "outputs": [],
   "source": []
  }
 ],
 "metadata": {
  "kernelspec": {
   "display_name": "Python 3 (ipykernel)",
   "language": "python",
   "name": "python3"
  },
  "language_info": {
   "codemirror_mode": {
    "name": "ipython",
    "version": 3
   },
   "file_extension": ".py",
   "mimetype": "text/x-python",
   "name": "python",
   "nbconvert_exporter": "python",
   "pygments_lexer": "ipython3",
   "version": "3.11.3"
  }
 },
 "nbformat": 4,
 "nbformat_minor": 5
}
